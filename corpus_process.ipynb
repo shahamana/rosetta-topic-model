{
 "cells": [
  {
   "cell_type": "code",
   "execution_count": 3,
   "metadata": {},
   "outputs": [],
   "source": [
    "# import libraries\n",
    "\n",
    "import pandas as pd\n",
    "import numpy as np\n",
    "import matplotlib as plt\n",
    "import nltk\n",
    "import nltk.corpus\n",
    "import os\n",
    "import re\n",
    "import string"
   ]
  },
  {
   "cell_type": "code",
   "execution_count": 6,
   "metadata": {},
   "outputs": [],
   "source": [
    "# DO NOT RUN, needed the code to preprocess the danish text from parliament\n",
    "\n",
    "def clean_line(text):\n",
    "    # remove numbers\n",
    "    text_nonum = re.sub(r'\\d+', '', text)\n",
    "    # remove punctuations and convert characters to lower case\n",
    "    text_nopunct = \"\".join([char.lower() for char in text_nonum if char not in string.punctuation]) \n",
    "    # substitute multiple whitespace with single whitespace\n",
    "    # Also, removes leading and trailing whitespaces\n",
    "    text_no_doublespace = re.sub('\\s+', ' ', text_nopunct).strip()\n",
    "    return text_no_doublespace\n",
    "\n",
    "def filter_file(original, new):\n",
    "\n",
    "        file1 = open(original,'r')\n",
    "        file2 = open(new,'w')\n",
    "        \n",
    "        # reading each line from original text file\n",
    "        for line in file1.readlines():\n",
    "        \n",
    "                # reading all lines that do not begin with \"<\"\n",
    "                if not (line.startswith('<')):\n",
    "                        new_line = clean_line(line)\n",
    "\n",
    "                        # storing only those lines that do not begin with \"<\"\n",
    "                        file2.write(new_line)\n",
    "        \n",
    "        # close and save the files\n",
    "        file2.close()\n",
    "        file1.close()\n",
    "\n",
    "for file in os.listdir(): \n",
    "    # Check whether file is in text format or not \n",
    "    if file.endswith(\".txt\"): \n",
    "        new_file = \"processed/pp_\" + file\n",
    "        # call read text file function \n",
    "        filter_file(file, new_file) \n"
   ]
  }
 ],
 "metadata": {
  "kernelspec": {
   "display_name": "rosetta",
   "language": "python",
   "name": "python3"
  },
  "language_info": {
   "codemirror_mode": {
    "name": "ipython",
    "version": 3
   },
   "file_extension": ".py",
   "mimetype": "text/x-python",
   "name": "python",
   "nbconvert_exporter": "python",
   "pygments_lexer": "ipython3",
   "version": "3.11.5"
  }
 },
 "nbformat": 4,
 "nbformat_minor": 2
}
